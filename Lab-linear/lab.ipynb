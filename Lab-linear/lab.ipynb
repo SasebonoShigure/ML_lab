{
 "cells": [
  {
   "cell_type": "markdown",
   "metadata": {},
   "source": [
    "# Linear Classification Lab"
   ]
  },
  {
   "cell_type": "markdown",
   "metadata": {},
   "source": [
    "## 准备工作\n",
    "### 环境准备\n",
    "请确保完成以下依赖包的安装，并且通过下面代码来导入与验证。"
   ]
  },
  {
   "cell_type": "code",
   "execution_count": null,
   "metadata": {},
   "outputs": [],
   "source": [
    "import numpy as np\n",
    "import matplotlib.pyplot as plt\n",
    "\n",
    "np.random.seed(0)"
   ]
  },
  {
   "cell_type": "markdown",
   "metadata": {},
   "source": [
    "### 数据集准备\n",
    "\n",
    "我们将使用以下二维数据集来进行线性分类器的拟合。\n",
    "\n",
    "请执行下面的代码以加载数据集并对其进行可视化。"
   ]
  },
  {
   "cell_type": "code",
   "execution_count": null,
   "metadata": {},
   "outputs": [],
   "source": [
    "from data_generator import gen_2D_dataset\n",
    "\n",
    "x_train, y_train = gen_2D_dataset(100)\n",
    "x_test, y_test = gen_2D_dataset(10)"
   ]
  },
  {
   "cell_type": "code",
   "execution_count": null,
   "metadata": {},
   "outputs": [],
   "source": [
    "from vis_util import visualize_2D_dataset, visualize_2D_border\n",
    "\n",
    "visualize_2D_dataset(x_train, y_train)"
   ]
  },
  {
   "cell_type": "markdown",
   "metadata": {},
   "source": [
    "## 线性回归 (10 pts)\n",
    "\n",
    "在这一部分，你需要通过最小二乘法的闭式解来解决线性回归问题，并计算以下损失函数的值。\n",
    "\n",
    "$$ L(w,b) = \\frac{1}{n} \\sum_{i\\in[n]} (y_i - (w^Tx_i + b))^2 $$\n",
    "\n",
    "你可能会用到的函数有：`numpy.linalg.inv()`、`numpy.dot()`、`numpy.transpose()`、`numpy.ones()`、`numpy.concatenate()`、`numpy.sum()` 等。"
   ]
  },
  {
   "cell_type": "code",
   "execution_count": null,
   "metadata": {},
   "outputs": [],
   "source": [
    "# In this section, please implement the linear regression using the closed form solution\n",
    "\n",
    "# TODO: firstly, add a column of 1s to the x_train as the bias term\n",
    "all_1 = np.ones(len(x_train))\n",
    "x_hat = np.concatenate(([x_train],[all_1]))\n",
    "# TODO: secondly, use the closed form solution to calculate the best theta\n"
   ]
  },
  {
   "cell_type": "code",
   "execution_count": null,
   "metadata": {},
   "outputs": [],
   "source": [
    "# In this section, please visualize the linear regression solution in 2D using the visualize_2D_border function\n",
    "\n",
    "# TODO: firstly, compute the y_pred using the best theta\n",
    "\n",
    "# TODO: Secondly, visualize the linear regression solution in 2D using the visualize_2D_border function\n"
   ]
  },
  {
   "cell_type": "code",
   "execution_count": null,
   "metadata": {},
   "outputs": [],
   "source": [
    "# Define the loss function\n",
    "def compute_loss(X, y, theta):\n",
    "    '''\n",
    "    Compute the loss function for linear regression\n",
    "\n",
    "    Args:\n",
    "        X: the input data\n",
    "        y: the label\n",
    "        theta: the weights\n",
    "    Returns:\n",
    "        the loss value (a scalar)\n",
    "    '''\n",
    "    # TODO: firstly, compute the length of the dataset\n",
    "\n",
    "\n",
    "    # TODO: secondly, compute the y_pred using the input data and the weights\n",
    "\n",
    "\n",
    "    # TODO: thirdly, compute the loss using the y_pred and the label\n",
    "\n",
    "    pass\n"
   ]
  },
  {
   "cell_type": "code",
   "execution_count": null,
   "metadata": {},
   "outputs": [],
   "source": [
    "# In this section, compute the loss on the training set and the test set\n",
    "\n",
    "# TODO: the loss on the training set (invoke the compute_loss function)\n",
    "\n",
    "\n",
    "# TODO: the loss on the testing test\n",
    "\n",
    "\n",
    "# TODO: print the training loss and the test loss\n",
    "print(f'Training loss: {train_loss}')\n",
    "print(f'Test loss: {test_loss}')"
   ]
  }
 ],
 "metadata": {
  "kernelspec": {
   "display_name": "Python 3",
   "language": "python",
   "name": "python3"
  },
  "language_info": {
   "codemirror_mode": {
    "name": "ipython",
    "version": 3
   },
   "file_extension": ".py",
   "mimetype": "text/x-python",
   "name": "python",
   "nbconvert_exporter": "python",
   "pygments_lexer": "ipython3",
   "version": "3.11.3"
  }
 },
 "nbformat": 4,
 "nbformat_minor": 2
}
