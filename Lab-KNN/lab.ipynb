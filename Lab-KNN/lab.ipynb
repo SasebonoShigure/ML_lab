{
 "cells": [
  {
   "cell_type": "markdown",
   "metadata": {},
   "source": [
    "# KNN Lab"
   ]
  },
  {
   "cell_type": "markdown",
   "metadata": {},
   "source": [
    "## 准备工作\n",
    "### 环境准备\n",
    "请确保完成以下依赖包的安装，并且通过下面代码来导入与验证。"
   ]
  },
  {
   "cell_type": "code",
   "execution_count": null,
   "metadata": {},
   "outputs": [],
   "source": [
    "import numpy as np\n",
    "import matplotlib.pyplot as plt\n",
    "from sklearn.datasets import make_blobs\n",
    "\n",
    "np.random.seed(12)"
   ]
  },
  {
   "cell_type": "markdown",
   "metadata": {},
   "source": [
    "### 数据集准备\n",
    "为了进行实验，我们提供了一个包含三个簇的训练样本集。该数据集包含两个特征（features），以及一个标签 y。\n",
    "\n",
    "请执行以下代码以加载数据集并进行可视化。"
   ]
  },
  {
   "cell_type": "code",
   "execution_count": null,
   "metadata": {},
   "outputs": [],
   "source": [
    "from data_generator import gen_2D_dataset\n",
    "\n",
    "# define the centers of different classes\n",
    "centers = [[1, 1], [-1, -1], [1, -1]]\n",
    "# define the number of samples\n",
    "n_samples = 500\n",
    "cluster_std = 0.8\n",
    "\n",
    "# generate the dataset\n",
    "x_train, y_train = gen_2D_dataset(centers, n_samples, cluster_std)\n",
    "x_test, y_test = gen_2D_dataset(centers, 100, cluster_std) \n"
   ]
  },
  {
   "cell_type": "code",
   "execution_count": null,
   "metadata": {},
   "outputs": [],
   "source": [
    "from vis_util import visualize_2D_dataset\n",
    "\n",
    "# visualize the dataset\n",
    "visualize_2D_dataset(x_train, y_train)\n"
   ]
  },
  {
   "cell_type": "markdown",
   "metadata": {},
   "source": [
    "## KNN (10 pts)\n",
    "\n",
    "KNN 算法的核心思想是利用距离待预测点最近的$K$个样本数据的分类来代表/预测目标数据的分类。\n",
    "\n",
    "请你首先完成以下函数：\n",
    "\n",
    "1. **定义距离函数（Distance Function）：** 在这里，我们将采用欧式距离。\n",
    "2. **利用 KNN 算法进行预测。**\n",
    "\n",
    "你将需要使用到 `numpy` 库，可以参考 [NumPy 官方文档](https://numpy.org/doc/stable/user/index.html) 。\n",
    "\n",
    "你可能会用到的函数包括：`numpy.sum()`、`numpy.sqrt()`、`sort()`、`max()` 等。"
   ]
  },
  {
   "cell_type": "code",
   "execution_count": null,
   "metadata": {},
   "outputs": [],
   "source": [
    "# TODO: Implement a function to compute the Euclidean distance between two data points.\n",
    "def euclidean_distance(x1, x2):\n",
    "    \"\"\"\n",
    "    Compute the Euclidean distance between two data points.\n",
    "\n",
    "    Parameters:\n",
    "    - x1, x2: two data points to compute the distance.\n",
    "\n",
    "    Returns:\n",
    "    - float: the Euclidean distance between point1 and point2.\n",
    "    \"\"\"\n",
    "    # TODO: First, compute the squared distance between two points\n",
    "\n",
    "    # TODO: Second, compute the square root of the squared distance\n",
    "    \n",
    "    pass\n"
   ]
  },
  {
   "cell_type": "code",
   "execution_count": null,
   "metadata": {},
   "outputs": [],
   "source": [
    "# TODO: Use KNN to classify the data points in the test set.\n",
    "\n",
    "def KNN_predict(x_train, y_train, x_test, k):\n",
    "    ''' \n",
    "    Predict the labels for x_test using KNN.\n",
    "\n",
    "    Parameters:\n",
    "    - x_train: training data\n",
    "    - y_train: labels for training data\n",
    "    - x_test: test data\n",
    "    - k: number of neighbors to consider\n",
    "\n",
    "    Returns:\n",
    "    - predictions: list of predicted labels for x_test\n",
    "    \n",
    "    '''\n",
    "    predictions = []\n",
    "    for test_point in x_test:\n",
    "        distances = []\n",
    "        # compute the distance between the test point and all training points\n",
    "        for i, train_point in enumerate(x_train):\n",
    "            # TODO: invoke the function euclidean_distance to compute the distance between two points\n",
    "            distance = \"TODO\"\n",
    "            # store the distance\n",
    "            distances.append((i, distance))\n",
    "        \n",
    "        # TODO: sort the distances \n",
    "        \n",
    "\n",
    "        # get the labels of the k nearest neighbor training samples\n",
    "        top_k_labels = [y_train[distance[0]] for distance in distances[:k]]\n",
    "        \n",
    "        # select the most common class label among them\n",
    "        prediction = max(set(top_k_labels), key=top_k_labels.count)\n",
    "        predictions.append(prediction)\n",
    "\n",
    "    return predictions\n",
    "\n"
   ]
  },
  {
   "cell_type": "markdown",
   "metadata": {},
   "source": [
    "完成上述代码后，你可以自行设置$K$的大小，对测试数据集进行预测，并计算准确率。"
   ]
  },
  {
   "cell_type": "code",
   "execution_count": null,
   "metadata": {},
   "outputs": [],
   "source": [
    "# Set the number of neighbors and compute the accuracy of test data.\n",
    "k = 8\n",
    "y_pred = KNN_predict(x_train, y_train, x_test, k)\n",
    "acc = (np.sum(y_test == y_pred) / len(y_test)) * 100\n",
    "\n",
    "print(\"Test accuracy: {}\".format(acc))"
   ]
  }
 ],
 "metadata": {
  "kernelspec": {
   "display_name": "Python 3",
   "language": "python",
   "name": "python3"
  },
  "language_info": {
   "codemirror_mode": {
    "name": "ipython",
    "version": 3
   },
   "file_extension": ".py",
   "mimetype": "text/x-python",
   "name": "python",
   "nbconvert_exporter": "python",
   "pygments_lexer": "ipython3",
   "version": "3.9.7"
  }
 },
 "nbformat": 4,
 "nbformat_minor": 2
}
