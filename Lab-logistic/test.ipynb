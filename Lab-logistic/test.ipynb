{
 "cells": [
  {
   "cell_type": "code",
   "execution_count": 24,
   "metadata": {},
   "outputs": [],
   "source": [
    "import numpy as np\n",
    "import matplotlib.pyplot as plt\n",
    "from typing import Tuple, List\n",
    "\n",
    "# display the plot in a separate window\n",
    "%matplotlib tk\n",
    "\n",
    "np.random.seed(12)\n",
    "\n",
    "# create a figure and axis\n",
    "plt.ion()\n",
    "fig = plt.figure(figsize=(12, 5))"
   ]
  },
  {
   "cell_type": "code",
   "execution_count": 25,
   "metadata": {},
   "outputs": [],
   "source": [
    "from data_generator import gen_2D_dataset\n",
    "\n",
    "x_train, y_train = gen_2D_dataset(100, 100, noise = 0)\n",
    "x_test, y_test = gen_2D_dataset(50, 50, noise = 0.7)"
   ]
  },
  {
   "cell_type": "code",
   "execution_count": 26,
   "metadata": {},
   "outputs": [],
   "source": [
    "from vis_util import visualize_2D_dataset, visualize_2D_border\n",
    "\n",
    "visualize_2D_dataset(x_train, y_train)\n",
    "visualize_2D_dataset(x_test,y_test)"
   ]
  },
  {
   "cell_type": "code",
   "execution_count": 27,
   "metadata": {},
   "outputs": [],
   "source": [
    "x = x_train\n",
    "all_1 = np.array([np.ones(len(x))])\n",
    "x_hat = np.concatenate((x,all_1.T),axis=1)\n"
   ]
  },
  {
   "cell_type": "code",
   "execution_count": 41,
   "metadata": {},
   "outputs": [
    {
     "name": "stdout",
     "output_type": "stream",
     "text": [
      "[-1 -1 -1 -1 -1 -1  1 -1 -1  1 -1 -1  1 -1  1  1  1 -1 -1  1  1  1  1  1\n",
      " -1 -1 -1 -1 -1 -1  1  1 -1 -1 -1 -1 -1 -1  1  1 -1  1  1 -1 -1  1 -1  1\n",
      " -1  1 -1  1 -1  1  1  1  1  1 -1  1  1  1  1  1  1  1 -1  1  1 -1 -1  1\n",
      "  1 -1 -1  1 -1 -1 -1 -1 -1 -1  1 -1  1 -1 -1 -1  1  1  1 -1 -1  1 -1 -1\n",
      "  1 -1 -1  1  1  1  1 -1 -1 -1  1  1  1 -1  1  1  1 -1 -1  1  1 -1 -1 -1\n",
      "  1  1  1 -1  1 -1 -1 -1 -1 -1  1 -1 -1  1 -1 -1 -1  1  1 -1 -1 -1  1  1\n",
      " -1  1 -1  1 -1  1  1 -1 -1 -1 -1 -1 -1 -1 -1  1 -1 -1 -1  1 -1  1  1 -1\n",
      " -1  1  1  1  1  1 -1 -1 -1  1  1 -1  1  1 -1  1 -1 -1  1 -1  1 -1  1 -1\n",
      "  1 -1  1  1  1  1  1 -1]\n"
     ]
    }
   ],
   "source": [
    "def sigmoid(x):\n",
    "    '''\n",
    "    Sigmoid function.\n",
    "    '''\n",
    "    return 1 / (1 + np.exp(-x))\n",
    "w = np.array([1,-1,0])\n",
    "print(np.where(w @ x_hat.T >= 0,1,-1))"
   ]
  }
 ],
 "metadata": {
  "kernelspec": {
   "display_name": ".venv",
   "language": "python",
   "name": "python3"
  },
  "language_info": {
   "codemirror_mode": {
    "name": "ipython",
    "version": 3
   },
   "file_extension": ".py",
   "mimetype": "text/x-python",
   "name": "python",
   "nbconvert_exporter": "python",
   "pygments_lexer": "ipython3",
   "version": "3.11.3"
  }
 },
 "nbformat": 4,
 "nbformat_minor": 2
}
